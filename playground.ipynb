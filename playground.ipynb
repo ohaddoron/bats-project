{
 "cells": [
  {
   "cell_type": "code",
   "execution_count": 2,
   "metadata": {},
   "outputs": [],
   "source": [
    "import os\n",
    "from pathlib import Path"
   ]
  },
  {
   "cell_type": "code",
   "execution_count": 24,
   "metadata": {},
   "outputs": [],
   "source": [
    "files = list(Path('./data/NeuralNetwork').glob('*.WAV'))\n",
    "files = [file.name for file in files]\n",
    "names = [file.split('20')[0].split('Unknown')[-1] for file in files]\n"
   ]
  },
  {
   "cell_type": "code",
   "execution_count": 27,
   "metadata": {},
   "outputs": [],
   "source": [
    "unique_names = [name for name in list(set(names)) if name]"
   ]
  },
  {
   "cell_type": "code",
   "execution_count": 28,
   "metadata": {},
   "outputs": [
    {
     "data": {
      "text/plain": [
       "['Pkuhlii',\n",
       " 'Taphnudiventr',\n",
       " 'TadaridatenRhinopomamicrophyllum',\n",
       " 'Pippip',\n",
       " 'TaphozousnudiventrisTadaridaten',\n",
       " 'Tadaridaten',\n",
       " 'Rhinopomamicrophyllum',\n",
       " 'Pipkuhlii',\n",
       " 'TadaridatenTaphozousnudiventris',\n",
       " 'RhinopomamicrophyllumTadaridaten',\n",
       " 'Taphnudiventris',\n",
       " 'Taphoperforatus',\n",
       " 'Rhinopomacystops',\n",
       " 'PipkuhliiPippip']"
      ]
     },
     "execution_count": 28,
     "metadata": {},
     "output_type": "execute_result"
    }
   ],
   "source": [
    "unique_names"
   ]
  },
  {
   "cell_type": "code",
   "execution_count": 30,
   "metadata": {},
   "outputs": [],
   "source": [
    "counts =[dict(name=name, counts=sum([name in file for file in files]) for name in unique_names]"
   ]
  },
  {
   "cell_type": "code",
   "execution_count": 31,
   "metadata": {},
   "outputs": [
    {
     "data": {
      "text/plain": [
       "{'Pkuhlii': 48,\n",
       " 'Taphnudiventr': 97,\n",
       " 'TadaridatenRhinopomamicrophyllum': 6,\n",
       " 'Pippip': 4,\n",
       " 'TaphozousnudiventrisTadaridaten': 1,\n",
       " 'Tadaridaten': 255,\n",
       " 'Rhinopomamicrophyllum': 26,\n",
       " 'Pipkuhlii': 2550,\n",
       " 'TadaridatenTaphozousnudiventris': 2,\n",
       " 'RhinopomamicrophyllumTadaridaten': 6,\n",
       " 'Taphnudiventris': 4,\n",
       " 'Taphoperforatus': 5,\n",
       " 'Rhinopomacystops': 7,\n",
       " 'PipkuhliiPippip': 3}"
      ]
     },
     "execution_count": 31,
     "metadata": {},
     "output_type": "execute_result"
    }
   ],
   "source": [
    "counts\n"
   ]
  },
  {
   "cell_type": "code",
   "execution_count": null,
   "metadata": {},
   "outputs": [],
   "source": []
  }
 ],
 "metadata": {
  "kernelspec": {
   "display_name": "Python 3.9.7 ('bats')",
   "language": "python",
   "name": "python3"
  },
  "language_info": {
   "codemirror_mode": {
    "name": "ipython",
    "version": 3
   },
   "file_extension": ".py",
   "mimetype": "text/x-python",
   "name": "python",
   "nbconvert_exporter": "python",
   "pygments_lexer": "ipython3",
   "version": "3.9.7"
  },
  "orig_nbformat": 4,
  "vscode": {
   "interpreter": {
    "hash": "1607fa53eff894005bdd7cca14d1a0236cfbca9872203a805b2456c5f31d5071"
   }
  }
 },
 "nbformat": 4,
 "nbformat_minor": 2
}
